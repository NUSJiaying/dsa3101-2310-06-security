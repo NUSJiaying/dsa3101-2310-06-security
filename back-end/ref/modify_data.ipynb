{
 "cells": [
  {
   "cell_type": "code",
   "execution_count": 3,
   "id": "4b786f09-0c4d-4fef-8d3e-3c350cef8a8f",
   "metadata": {},
   "outputs": [],
   "source": [
    "import os\n",
    "import pandas as pd\n",
    "import numpy as np\n",
    "import random"
   ]
  },
  {
   "cell_type": "code",
   "execution_count": 4,
   "id": "94de7b8f-2efd-4212-97b5-07d9b31a032f",
   "metadata": {},
   "outputs": [],
   "source": [
    "mydir= os.getcwd()"
   ]
  },
  {
   "cell_type": "code",
   "execution_count": 6,
   "id": "bd1d42a3-7b49-4fc5-84e3-9feb8764d262",
   "metadata": {},
   "outputs": [],
   "source": [
    "d1=pd.read_csv(os.path.join(mydir,'data1.csv'))\n",
    "d2=pd.read_csv(os.path.join(mydir,'data1.csv'))\n",
    "loc=pd.read_csv(os.path.join(mydir,'list_bldgs.csv'))"
   ]
  },
  {
   "cell_type": "code",
   "execution_count": 9,
   "id": "ad4f4fae-78a2-437e-abf8-758e3007a82b",
   "metadata": {},
   "outputs": [],
   "source": [
    "df=pd.concat([d1,d2],axis=0,ignore_index=True)"
   ]
  },
  {
   "cell_type": "code",
   "execution_count": 12,
   "id": "92cd1e13-a4ec-4de1-ac85-9f8df50544bc",
   "metadata": {},
   "outputs": [],
   "source": [
    "dt={'Location':[],'Building':[]}"
   ]
  },
  {
   "cell_type": "code",
   "execution_count": 13,
   "id": "1df2d8d3-9717-4fc2-9d9f-60e3607b84a1",
   "metadata": {},
   "outputs": [],
   "source": [
    "for i in range(df.shape[0]):\n",
    "    a=random.randint(0,342)\n",
    "    dt['Location'].append(loc['Location'][a])\n",
    "    dt['Building'].append(loc['Buildings'][a])"
   ]
  },
  {
   "cell_type": "code",
   "execution_count": 14,
   "id": "bfd285e9-819c-40de-95b3-d474687205b9",
   "metadata": {},
   "outputs": [],
   "source": [
    "Loc=pd.DataFrame(dt)"
   ]
  },
  {
   "cell_type": "code",
   "execution_count": 15,
   "id": "d62bc0de-46ea-4e87-a2bc-58e5a4cc5b65",
   "metadata": {},
   "outputs": [],
   "source": [
    "df=pd.concat([df,Loc],axis=1)"
   ]
  },
  {
   "cell_type": "code",
   "execution_count": 7,
   "id": "c030e205-2a13-4bcd-8c90-05301057db14",
   "metadata": {},
   "outputs": [],
   "source": [
    "columns_titles = [\"Location\",\"Buildings\"]\n",
    "loc=loc.reindex(columns=columns_titles)\n"
   ]
  },
  {
   "cell_type": "code",
   "execution_count": 17,
   "id": "c54e2d40-b507-467a-aa3c-91073b0f97df",
   "metadata": {},
   "outputs": [
    {
     "data": {
      "text/html": [
       "<div>\n",
       "<style scoped>\n",
       "    .dataframe tbody tr th:only-of-type {\n",
       "        vertical-align: middle;\n",
       "    }\n",
       "\n",
       "    .dataframe tbody tr th {\n",
       "        vertical-align: top;\n",
       "    }\n",
       "\n",
       "    .dataframe thead th {\n",
       "        text-align: right;\n",
       "    }\n",
       "</style>\n",
       "<table border=\"1\" class=\"dataframe\">\n",
       "  <thead>\n",
       "    <tr style=\"text-align: right;\">\n",
       "      <th></th>\n",
       "      <th>Date</th>\n",
       "      <th>Time</th>\n",
       "      <th>Crime</th>\n",
       "      <th>Location</th>\n",
       "      <th>Building</th>\n",
       "    </tr>\n",
       "  </thead>\n",
       "  <tbody>\n",
       "    <tr>\n",
       "      <th>0</th>\n",
       "      <td>10/04/2023</td>\n",
       "      <td>21:06</td>\n",
       "      <td>STOLEN ITEMS</td>\n",
       "      <td>FOS</td>\n",
       "      <td>SCIENCE BLOCK 9</td>\n",
       "    </tr>\n",
       "    <tr>\n",
       "      <th>1</th>\n",
       "      <td>11/04/2023</td>\n",
       "      <td>16:46</td>\n",
       "      <td>LOST AND FOUND</td>\n",
       "      <td>FOS</td>\n",
       "      <td>CTR FOR LIFE SCIENCES</td>\n",
       "    </tr>\n",
       "    <tr>\n",
       "      <th>2</th>\n",
       "      <td>12/04/2022</td>\n",
       "      <td>7:05</td>\n",
       "      <td>LOST AND FOUND</td>\n",
       "      <td>HALL</td>\n",
       "      <td>EUSOFF HALL (BLOCK C)</td>\n",
       "    </tr>\n",
       "    <tr>\n",
       "      <th>3</th>\n",
       "      <td>08/09/2023</td>\n",
       "      <td>10:46</td>\n",
       "      <td>DAMAGED PROPERTY</td>\n",
       "      <td>YIH</td>\n",
       "      <td>RAFFLES HALL (COMMUNAL HALL)</td>\n",
       "    </tr>\n",
       "    <tr>\n",
       "      <th>4</th>\n",
       "      <td>03/03/2022</td>\n",
       "      <td>18:29</td>\n",
       "      <td>LOST AND FOUND</td>\n",
       "      <td>UTown</td>\n",
       "      <td>YALE RESIDENTIAL COLLEGE 1</td>\n",
       "    </tr>\n",
       "  </tbody>\n",
       "</table>\n",
       "</div>"
      ],
      "text/plain": [
       "         Date   Time             Crime Location                      Building\n",
       "0  10/04/2023  21:06      STOLEN ITEMS      FOS               SCIENCE BLOCK 9\n",
       "1  11/04/2023  16:46    LOST AND FOUND      FOS         CTR FOR LIFE SCIENCES\n",
       "2  12/04/2022   7:05    LOST AND FOUND     HALL         EUSOFF HALL (BLOCK C)\n",
       "3  08/09/2023  10:46  DAMAGED PROPERTY      YIH  RAFFLES HALL (COMMUNAL HALL)\n",
       "4  03/03/2022  18:29    LOST AND FOUND    UTown    YALE RESIDENTIAL COLLEGE 1"
      ]
     },
     "execution_count": 17,
     "metadata": {},
     "output_type": "execute_result"
    }
   ],
   "source": [
    "df.head()"
   ]
  },
  {
   "cell_type": "code",
   "execution_count": 11,
   "id": "7afceecd-8608-437f-8c00-1774c0f003ac",
   "metadata": {},
   "outputs": [],
   "source": [
    "loc=pd.read_csv(os.path.join(mydir,'list_bldgs.csv'))"
   ]
  },
  {
   "cell_type": "code",
   "execution_count": 18,
   "id": "fc1cf319-23e1-4e77-9d5d-fde889dcc67d",
   "metadata": {},
   "outputs": [],
   "source": [
    "df.to_csv(\"security_data_updated_1.csv\")"
   ]
  }
 ],
 "metadata": {
  "kernelspec": {
   "display_name": "Python 3 (ipykernel)",
   "language": "python",
   "name": "python3"
  },
  "language_info": {
   "codemirror_mode": {
    "name": "ipython",
    "version": 3
   },
   "file_extension": ".py",
   "mimetype": "text/x-python",
   "name": "python",
   "nbconvert_exporter": "python",
   "pygments_lexer": "ipython3",
   "version": "3.10.13"
  }
 },
 "nbformat": 4,
 "nbformat_minor": 5
}
