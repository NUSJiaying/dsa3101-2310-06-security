{
 "cells": [
  {
   "cell_type": "code",
   "execution_count": 68,
   "metadata": {},
   "outputs": [],
   "source": [
    "import pandas as pd\n",
    "import csv\n",
    "import math\n",
    "from datetime import datetime"
   ]
  },
  {
   "cell_type": "code",
   "execution_count": 12,
   "metadata": {},
   "outputs": [
    {
     "name": "stdout",
     "output_type": "stream",
     "text": [
      "            Number of Students\n",
      "Year                          \n",
      "2018-12-31               30098\n",
      "2019-12-31               31257\n",
      "2020-12-31               31760\n",
      "2021-12-31               31272\n",
      "2022-12-31               32335\n"
     ]
    }
   ],
   "source": [
    "# NUS number of students\n",
    "\n",
    "\n",
    "years = pd.date_range(start=\"2018\", end=\"2023\", freq='Y')\n",
    "ns = [30098, 31257, 31760, 31272, 32335]\n",
    "\n",
    "nus = pd.DataFrame(data={'Year': years, 'Number of Students': ns})\n",
    "nus.set_index('Year', inplace=True)\n",
    "\n",
    "print(nus)"
   ]
  },
  {
   "cell_type": "code",
   "execution_count": 14,
   "metadata": {},
   "outputs": [
    {
     "name": "stdout",
     "output_type": "stream",
     "text": [
      "            Number of Students\n",
      "Year                          \n",
      "2018-12-31                8449\n",
      "2019-12-31                8483\n",
      "2020-12-31                7870\n",
      "2021-12-31                8496\n",
      "2022-12-31                8895\n"
     ]
    }
   ],
   "source": [
    "# NUS number of students\n",
    "\n",
    "\n",
    "years = pd.date_range(start=\"2018\", end=\"2023\", freq='Y')\n",
    "ps = [8449, 8483, 7870, 8496, 8895]\n",
    "\n",
    "princeton = pd.DataFrame(data={'Year': years, 'Number of Students': ps})\n",
    "princeton.set_index('Year', inplace=True)\n",
    "\n",
    "print(princeton)"
   ]
  },
  {
   "cell_type": "code",
   "execution_count": 19,
   "metadata": {},
   "outputs": [
    {
     "data": {
      "text/html": [
       "<div>\n",
       "<style scoped>\n",
       "    .dataframe tbody tr th:only-of-type {\n",
       "        vertical-align: middle;\n",
       "    }\n",
       "\n",
       "    .dataframe tbody tr th {\n",
       "        vertical-align: top;\n",
       "    }\n",
       "\n",
       "    .dataframe thead th {\n",
       "        text-align: right;\n",
       "    }\n",
       "</style>\n",
       "<table border=\"1\" class=\"dataframe\">\n",
       "  <thead>\n",
       "    <tr style=\"text-align: right;\">\n",
       "      <th></th>\n",
       "      <th>Princeton</th>\n",
       "      <th>NUS</th>\n",
       "      <th>times</th>\n",
       "    </tr>\n",
       "    <tr>\n",
       "      <th>Year</th>\n",
       "      <th></th>\n",
       "      <th></th>\n",
       "      <th></th>\n",
       "    </tr>\n",
       "  </thead>\n",
       "  <tbody>\n",
       "    <tr>\n",
       "      <th>2018-12-31</th>\n",
       "      <td>8449</td>\n",
       "      <td>30098</td>\n",
       "      <td>3.562315</td>\n",
       "    </tr>\n",
       "    <tr>\n",
       "      <th>2019-12-31</th>\n",
       "      <td>8483</td>\n",
       "      <td>31257</td>\n",
       "      <td>3.684663</td>\n",
       "    </tr>\n",
       "    <tr>\n",
       "      <th>2020-12-31</th>\n",
       "      <td>7870</td>\n",
       "      <td>31760</td>\n",
       "      <td>4.035578</td>\n",
       "    </tr>\n",
       "    <tr>\n",
       "      <th>2021-12-31</th>\n",
       "      <td>8496</td>\n",
       "      <td>31272</td>\n",
       "      <td>3.680791</td>\n",
       "    </tr>\n",
       "    <tr>\n",
       "      <th>2022-12-31</th>\n",
       "      <td>8895</td>\n",
       "      <td>32335</td>\n",
       "      <td>3.635188</td>\n",
       "    </tr>\n",
       "  </tbody>\n",
       "</table>\n",
       "</div>"
      ],
      "text/plain": [
       "            Princeton    NUS     times\n",
       "Year                                  \n",
       "2018-12-31       8449  30098  3.562315\n",
       "2019-12-31       8483  31257  3.684663\n",
       "2020-12-31       7870  31760  4.035578\n",
       "2021-12-31       8496  31272  3.680791\n",
       "2022-12-31       8895  32335  3.635188"
      ]
     },
     "execution_count": 19,
     "metadata": {},
     "output_type": "execute_result"
    }
   ],
   "source": [
    "stu_ct = pd.DataFrame(data={'Year': years, 'Princeton': ps, 'NUS': ns})\n",
    "stu_ct.set_index('Year',inplace=True)\n",
    "stu_ct\n",
    "stu_ct['times'] = stu_ct['NUS']/stu_ct['Princeton']\n",
    "stu_ct\n"
   ]
  },
  {
   "cell_type": "code",
   "execution_count": 8,
   "metadata": {},
   "outputs": [
    {
     "name": "stdout",
     "output_type": "stream",
     "text": [
      "              Value\n",
      "Date               \n",
      "2018-01-01  879.676\n",
      "2019-01-01  878.826\n",
      "2020-01-01  870.393\n",
      "2021-01-01  811.253\n",
      "2022-01-01  808.437\n"
     ]
    }
   ],
   "source": [
    "# SF Population \n",
    "data = {'Date': [\"2018-01-01\", \"2019-01-01\", \"2020-01-01\", \"2021-01-01\", \"2022-01-01\"],\n",
    "        'Value': [879.676, 878.826, 870.393, 811.253, 808.437]}\n",
    "\n",
    "# Create the DataFrame\n",
    "sf = pd.DataFrame(data)\n",
    "\n",
    "# Convert the 'Date' column to datetime\n",
    "sf['Date'] = pd.to_datetime(sf['Date'])\n",
    "\n",
    "# Set 'Date' as the index\n",
    "sf.set_index('Date', inplace=True)\n",
    "\n",
    "print(sf)"
   ]
  },
  {
   "cell_type": "code",
   "execution_count": null,
   "metadata": {},
   "outputs": [],
   "source": [
    "nus_residents = 11000\n",
    "\n"
   ]
  },
  {
   "cell_type": "code",
   "execution_count": 3,
   "metadata": {},
   "outputs": [
    {
     "data": {
      "text/html": [
       "<div>\n",
       "<style scoped>\n",
       "    .dataframe tbody tr th:only-of-type {\n",
       "        vertical-align: middle;\n",
       "    }\n",
       "\n",
       "    .dataframe tbody tr th {\n",
       "        vertical-align: top;\n",
       "    }\n",
       "\n",
       "    .dataframe thead th {\n",
       "        text-align: right;\n",
       "    }\n",
       "</style>\n",
       "<table border=\"1\" class=\"dataframe\">\n",
       "  <thead>\n",
       "    <tr style=\"text-align: right;\">\n",
       "      <th></th>\n",
       "      <th>Buildings</th>\n",
       "      <th>Location</th>\n",
       "      <th>Longtitude</th>\n",
       "      <th>Latitude</th>\n",
       "    </tr>\n",
       "  </thead>\n",
       "  <tbody>\n",
       "    <tr>\n",
       "      <th>0</th>\n",
       "      <td>10 KR BUNGALOW</td>\n",
       "      <td>KR</td>\n",
       "      <td>1.294411</td>\n",
       "      <td>103.778502</td>\n",
       "    </tr>\n",
       "    <tr>\n",
       "      <th>1</th>\n",
       "      <td>11 KR BUNGALOW</td>\n",
       "      <td>KR</td>\n",
       "      <td>1.293319</td>\n",
       "      <td>103.773661</td>\n",
       "    </tr>\n",
       "    <tr>\n",
       "      <th>2</th>\n",
       "      <td>12A KR BUNGALOW</td>\n",
       "      <td>KR</td>\n",
       "      <td>1.297235</td>\n",
       "      <td>103.774759</td>\n",
       "    </tr>\n",
       "    <tr>\n",
       "      <th>3</th>\n",
       "      <td>12 KR BUNGALOW</td>\n",
       "      <td>KR</td>\n",
       "      <td>1.297234</td>\n",
       "      <td>103.773910</td>\n",
       "    </tr>\n",
       "    <tr>\n",
       "      <th>4</th>\n",
       "      <td>14A PGP BUNGALOW</td>\n",
       "      <td>PGP</td>\n",
       "      <td>1.293265</td>\n",
       "      <td>103.777459</td>\n",
       "    </tr>\n",
       "  </tbody>\n",
       "</table>\n",
       "</div>"
      ],
      "text/plain": [
       "          Buildings Location  Longtitude    Latitude\n",
       "0    10 KR BUNGALOW       KR    1.294411  103.778502\n",
       "1    11 KR BUNGALOW       KR    1.293319  103.773661\n",
       "2   12A KR BUNGALOW       KR    1.297235  103.774759\n",
       "3    12 KR BUNGALOW       KR    1.297234  103.773910\n",
       "4  14A PGP BUNGALOW      PGP    1.293265  103.777459"
      ]
     },
     "execution_count": 3,
     "metadata": {},
     "output_type": "execute_result"
    }
   ],
   "source": [
    "# Add residence boolean value\n",
    "\n",
    "bldgs = pd.read_csv('list_bldgs.csv')\n"
   ]
  },
  {
   "cell_type": "code",
   "execution_count": 8,
   "metadata": {},
   "outputs": [],
   "source": [
    "bldgs['Residence'] = bldgs['Buildings'].str.contains('APARTMENT|RESIDENCE|BUNGALOW|COLLEGE|HALL', case=False, na=False)\n",
    "bldgs.to_csv('list_bldgs.csv')\n"
   ]
  },
  {
   "cell_type": "code",
   "execution_count": 41,
   "metadata": {},
   "outputs": [
    {
     "data": {
      "text/plain": [
       "(492, 8)"
      ]
     },
     "execution_count": 41,
     "metadata": {},
     "output_type": "execute_result"
    }
   ],
   "source": [
    "# eda princeton\n",
    "pdf =pd.read_csv('princeton.csv')\n",
    "pdf.shape"
   ]
  },
  {
   "cell_type": "code",
   "execution_count": 42,
   "metadata": {},
   "outputs": [
    {
     "data": {
      "text/plain": [
       "0      10/28/2022\n",
       "1      10/28/2022\n",
       "2      10/28/2022\n",
       "3      10/28/2022\n",
       "4      10/29/2022\n",
       "          ...    \n",
       "487    10/14/2023\n",
       "488    10/23/2023\n",
       "489    10/24/2023\n",
       "490    10/25/2023\n",
       "491    10/26/2023\n",
       "Name: Date, Length: 492, dtype: object"
      ]
     },
     "execution_count": 42,
     "metadata": {},
     "output_type": "execute_result"
    }
   ],
   "source": [
    "pdf[\"Date\"]\n"
   ]
  },
  {
   "cell_type": "code",
   "execution_count": 51,
   "metadata": {},
   "outputs": [],
   "source": [
    "pdf['Date'] = pd.to_datetime(pdf['Date'])\n",
    "#data from oct 28 2022 to oct 26 2023\n",
    "#as academic year 2022/23\n",
    "\n"
   ]
  },
  {
   "cell_type": "code",
   "execution_count": 60,
   "metadata": {},
   "outputs": [
    {
     "data": {
      "text/html": [
       "<div>\n",
       "<style scoped>\n",
       "    .dataframe tbody tr th:only-of-type {\n",
       "        vertical-align: middle;\n",
       "    }\n",
       "\n",
       "    .dataframe tbody tr th {\n",
       "        vertical-align: top;\n",
       "    }\n",
       "\n",
       "    .dataframe thead th {\n",
       "        text-align: right;\n",
       "    }\n",
       "</style>\n",
       "<table border=\"1\" class=\"dataframe\">\n",
       "  <thead>\n",
       "    <tr style=\"text-align: right;\">\n",
       "      <th></th>\n",
       "      <th>Year</th>\n",
       "      <th>Princeton count</th>\n",
       "      <th>NUS count</th>\n",
       "    </tr>\n",
       "    <tr>\n",
       "      <th>Year</th>\n",
       "      <th></th>\n",
       "      <th></th>\n",
       "      <th></th>\n",
       "    </tr>\n",
       "  </thead>\n",
       "  <tbody>\n",
       "    <tr>\n",
       "      <th>2018-12-31</th>\n",
       "      <td>2018-12-31</td>\n",
       "      <td>467.0</td>\n",
       "      <td>1665.0</td>\n",
       "    </tr>\n",
       "    <tr>\n",
       "      <th>2019-12-31</th>\n",
       "      <td>2019-12-31</td>\n",
       "      <td>469.0</td>\n",
       "      <td>1729.0</td>\n",
       "    </tr>\n",
       "    <tr>\n",
       "      <th>2020-12-31</th>\n",
       "      <td>2020-12-31</td>\n",
       "      <td>435.0</td>\n",
       "      <td>1757.0</td>\n",
       "    </tr>\n",
       "    <tr>\n",
       "      <th>2021-12-31</th>\n",
       "      <td>2021-12-31</td>\n",
       "      <td>470.0</td>\n",
       "      <td>1730.0</td>\n",
       "    </tr>\n",
       "    <tr>\n",
       "      <th>2022-12-31</th>\n",
       "      <td>2022-12-31</td>\n",
       "      <td>492.0</td>\n",
       "      <td>1789.0</td>\n",
       "    </tr>\n",
       "  </tbody>\n",
       "</table>\n",
       "</div>"
      ],
      "text/plain": [
       "                 Year  Princeton count  NUS count\n",
       "Year                                             \n",
       "2018-12-31 2018-12-31            467.0     1665.0\n",
       "2019-12-31 2019-12-31            469.0     1729.0\n",
       "2020-12-31 2020-12-31            435.0     1757.0\n",
       "2021-12-31 2021-12-31            470.0     1730.0\n",
       "2022-12-31 2022-12-31            492.0     1789.0"
      ]
     },
     "execution_count": 60,
     "metadata": {},
     "output_type": "execute_result"
    }
   ],
   "source": [
    "# number of rows needed\n",
    "#492/popn2023*popn*times\n",
    "pcount = round(492/8895 * stu_ct[\"Princeton\"])\n",
    "nuscount = round(492/8895 * stu_ct[\"Princeton\"] * stu_ct['times'])\n",
    "\n",
    "case_ct = pd.DataFrame(data={'Year': years, 'Princeton count': pcount, 'NUS count': nuscount})\n",
    "case_ct"
   ]
  },
  {
   "cell_type": "code",
   "execution_count": 62,
   "metadata": {},
   "outputs": [
    {
     "data": {
      "text/plain": [
       "Year\n",
       "2018-12-31    1665.0\n",
       "2019-12-31    1729.0\n",
       "2020-12-31    1757.0\n",
       "2021-12-31    1730.0\n",
       "2022-12-31    1789.0\n",
       "Name: NUS count, dtype: float64"
      ]
     },
     "execution_count": 62,
     "metadata": {},
     "output_type": "execute_result"
    }
   ],
   "source": [
    "case_ct[\"NUS count\"]"
   ]
  },
  {
   "cell_type": "code",
   "execution_count": null,
   "metadata": {},
   "outputs": [],
   "source": [
    "count = [1665, 1729, 1757, 1730, 1789]"
   ]
  }
 ],
 "metadata": {
  "kernelspec": {
   "display_name": "neuralnetwork",
   "language": "python",
   "name": "python3"
  },
  "language_info": {
   "codemirror_mode": {
    "name": "ipython",
    "version": 3
   },
   "file_extension": ".py",
   "mimetype": "text/x-python",
   "name": "python",
   "nbconvert_exporter": "python",
   "pygments_lexer": "ipython3",
   "version": "3.11.3"
  }
 },
 "nbformat": 4,
 "nbformat_minor": 2
}
