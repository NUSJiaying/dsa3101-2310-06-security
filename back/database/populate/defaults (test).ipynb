{
 "cells": [
  {
   "cell_type": "code",
   "execution_count": 9,
   "metadata": {},
   "outputs": [],
   "source": [
    "import mysql.connector\n",
    "import pandas as pd\n",
    "import bcrypt\n",
    "\n",
    "def establish_sql_connection():\n",
    "    # note: for testing purposes, run on localhost\n",
    "    db = mysql.connector.connect(\n",
    "        host = \"localhost\",\n",
    "        port = 1001,\n",
    "        user = \"root\",\n",
    "        password = \"dsa3101\",\n",
    "        database = \"secdb\"\n",
    "        )\n",
    "    cursor = db.cursor()\n",
    "    # uncomment below for dockerised usage\n",
    "    # db = mysql.connector.connect(\n",
    "    #     host = \"database\",\n",
    "    #     user = \"root\",\n",
    "    #     password = \"dsa3101\",\n",
    "    #     database = \"secdb\"\n",
    "    #     )\n",
    "    return db, cursor"
   ]
  },
  {
   "cell_type": "code",
   "execution_count": 2,
   "metadata": {},
   "outputs": [],
   "source": [
    "# add users\n",
    "def add_user_roles(filepath):\n",
    "\n",
    "    try: \n",
    "        ## establish connection\n",
    "        db = establish_sql_connection()\n",
    "        cursor = db.cursor()\n",
    "        print(f'db established: {db.is_connected()}')\n",
    "\n",
    "        ## read users from path and change to QUERY format\n",
    "        file = open(filepath, 'r')\n",
    "        values = file.read().split(\"\\n\")\n",
    "        values = list(map(lambda x: f'(\\'{x}\\')',values))\n",
    "        values = \", \".join(values)\n",
    "        query = f'INSERT INTO User_roles(role) VALUES {values};'\n",
    "\n",
    "        cursor.execute(query)\n",
    "        db.commit()\n",
    "        print(f\"Number of rows affected: {cursor.rowcount}\")\n",
    "\n",
    "    except mysql.connector.Error as err:\n",
    "        print(f\"Database error: {err}\")\n"
   ]
  },
  {
   "cell_type": "code",
   "execution_count": 3,
   "metadata": {},
   "outputs": [
    {
     "name": "stdout",
     "output_type": "stream",
     "text": [
      "db established: True\n",
      "Number of rows affected: 2\n"
     ]
    }
   ],
   "source": [
    "add_user_roles('User_roles.txt')"
   ]
  },
  {
   "cell_type": "code",
   "execution_count": 100,
   "metadata": {},
   "outputs": [],
   "source": [
    "def add_user(username, password, role, email=None):\n",
    "    try: \n",
    "        ## establish connection\n",
    "        db = establish_sql_connection()\n",
    "        cursor = db.cursor()\n",
    "        print(f'db established: {db.is_connected()}')\n",
    "\n",
    "        ## generate hash and salt\n",
    "        salt = bcrypt.gensalt()\n",
    "        hash = bcrypt.hashpw(password.encode('utf-8'), salt)\n",
    "\n",
    "        ## get role id\n",
    "        query = f'SELECT id FROM User_roles \\\n",
    "                                 where role = \\'{role}\\';'\n",
    "        cursor.execute(query)\n",
    "        role_id=cursor.fetchall()[0][0]\n",
    "\n",
    "        ## insert query\n",
    "        query = f\"\\\n",
    "            INSERT INTO Users\\\n",
    "            (email, username, role_id, salt, hash)\\\n",
    "            VALUES (\\'{email}\\', \\'{username}\\', {role_id}, \\'{salt.decode('utf-8')}\\', \\'{hash.decode('utf-8')}\\')\"\n",
    "        cursor.execute(query)\n",
    "        db.commit()\n",
    "\n",
    "    except mysql.connector.Error as err:\n",
    "        print(f\"Database error: {err}\")\n",
    "\n",
    "    finally:\n",
    "        cursor.close()\n",
    "        db.close()\n",
    "\n"
   ]
  },
  {
   "cell_type": "code",
   "execution_count": 101,
   "metadata": {},
   "outputs": [
    {
     "name": "stdout",
     "output_type": "stream",
     "text": [
      "db established: True\n",
      "Users: [(1, 'sec1', 'sec1@nus.edu.sg', 1, '$2b$12$yefe8Q4bk54xKpBPItKva.', '$2b$12$yefe8Q4bk54xKpBPItKva.WBg5Z9bPcmii7SLmj8k0SO1jokAlpr.')]\n"
     ]
    }
   ],
   "source": [
    "add_user('sec1','sec1','security','sec1@nus.edu.sg')\n",
    "\n",
    "db = establish_sql_connection()\n",
    "cursor = db.cursor()\n",
    "query = \"SELECT * from Users\"\n",
    "cursor.execute(query)\n",
    "Users = cursor.fetchall()\n",
    "print(f'Users: {Users}')\n",
    "cursor.close()\n",
    "db.close()"
   ]
  },
  {
   "cell_type": "code",
   "execution_count": 109,
   "metadata": {},
   "outputs": [],
   "source": [
    "def authenticate(user,password):\n",
    "    try:\n",
    "        db = establish_sql_connection()\n",
    "        cursor = db.cursor()\n",
    "        query = f\"SELECT hash from Users where username = \\'{user}\\'\"\n",
    "        cursor.execute(query)\n",
    "        hash_stored = cursor.fetchall()\n",
    "\n",
    "        ## Check username\n",
    "        if len(hash_stored) == 0:\n",
    "            print(\"User not found\")\n",
    "            return False\n",
    "        \n",
    "        ## Pull shash salt\n",
    "        hash_stored = hash_stored[0][0]\n",
    "        query = f\"SELECT salt from Users where username = \\'{user}\\'\"\n",
    "        cursor.execute(query)\n",
    "        salt = cursor.fetchall()[0][0]\n",
    "        hash_entered = bcrypt.hashpw(password.encode('utf-8'),salt.encode('utf-8'))\n",
    "    \n",
    "    except mysql.connector.Error as err:\n",
    "        print(f\"Database error: {err}\")\n",
    "    \n",
    "    finally:\n",
    "        cursor.close()\n",
    "        db.close()\n",
    "\n",
    "    ## Check results\n",
    "    authenticated = bcrypt.checkpw(password.encode('utf-8'),hash_stored.encode('utf-8'))\n",
    "    \n",
    "    return authenticated\n",
    "\n",
    "\n"
   ]
  },
  {
   "cell_type": "code",
   "execution_count": 113,
   "metadata": {},
   "outputs": [
    {
     "name": "stdout",
     "output_type": "stream",
     "text": [
      "User not found\n"
     ]
    },
    {
     "data": {
      "text/plain": [
       "False"
      ]
     },
     "execution_count": 113,
     "metadata": {},
     "output_type": "execute_result"
    }
   ],
   "source": [
    "authenticate(\"sec1\",\"sec1\")\n",
    "authenticate(\"sec1\",\"sec2\")\n",
    "authenticate(\"sec2\",\"sec2\")"
   ]
  },
  {
   "cell_type": "code",
   "execution_count": null,
   "metadata": {},
   "outputs": [],
   "source": [
    "data = pd.read_csv(\"back-end/data/data_except_priority&status.csv\")\n",
    "df = pd.DataFrame(data)\n"
   ]
  },
  {
   "cell_type": "code",
   "execution_count": 21,
   "metadata": {},
   "outputs": [],
   "source": [
    "def add_incident_types(filepath):\n",
    "    try: \n",
    "        ## establish connection\n",
    "        db, cursor = establish_sql_connection()\n",
    "        if db is None:\n",
    "            print(\"add_incident_types | Failed to establish a database connection.\")\n",
    "            return\n",
    "        print(f'add_incident_types | db established: {db.is_connected()}')\n",
    "\n",
    "        ## read incident types from path\n",
    "        with open(filepath, 'r') as file:\n",
    "            lines = file.readlines()\n",
    "            values = [tuple(line.strip().split(\", \")) for line in lines]\n",
    "\n",
    "        # Format values for the query\n",
    "        formatted_values = \", \".join([f\"('{type}', '{priority}')\" for type, priority in values])\n",
    "\n",
    "        query = f'INSERT INTO Incident_types(type, default_priority) VALUES {formatted_values};'\n",
    "\n",
    "        cursor.execute(query)\n",
    "        db.commit()\n",
    "        print(f\"add_incident_types | Incident types added: {cursor.rowcount}\")\n",
    "\n",
    "        cursor.close()\n",
    "        db.close()\n",
    "\n",
    "    except mysql.connector.Error as err:\n",
    "        print(f\"add_incident_types | database error: {err}\")\n"
   ]
  },
  {
   "cell_type": "code",
   "execution_count": 22,
   "metadata": {},
   "outputs": [
    {
     "name": "stdout",
     "output_type": "stream",
     "text": [
      "add_incident_types | db established: True\n",
      "('LOST AND FOUND', 'Normal'), ('DAMAGED PROPERTY', 'High'), ('STOLEN ITEMS', 'Normal'), ('EMERGENCY INCIDENTS', 'High'), ('SEXUAL INCIDENTS', 'High')\n",
      "add_incident_types | Incident types added: 5\n"
     ]
    }
   ],
   "source": [
    "add_incident_types('Incident_types.txt')"
   ]
  }
 ],
 "metadata": {
  "kernelspec": {
   "display_name": "Python 3",
   "language": "python",
   "name": "python3"
  },
  "language_info": {
   "codemirror_mode": {
    "name": "ipython",
    "version": 3
   },
   "file_extension": ".py",
   "mimetype": "text/x-python",
   "name": "python",
   "nbconvert_exporter": "python",
   "pygments_lexer": "ipython3",
   "version": "3.10.0"
  }
 },
 "nbformat": 4,
 "nbformat_minor": 2
}
