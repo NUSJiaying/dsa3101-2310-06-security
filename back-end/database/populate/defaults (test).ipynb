{
 "cells": [
  {
   "cell_type": "code",
   "execution_count": 1,
   "metadata": {},
   "outputs": [],
   "source": [
    "import mysql.connector\n",
    "import pandas as pd\n",
    "import bcrypt\n",
    "\n",
    "def establish_sql_connection():\n",
    "    # note: for testing purposes, run on localhost\n",
    "    db = mysql.connector.connect(\n",
    "        host = \"localhost\",\n",
    "        port = 1001,\n",
    "        user = \"root\",\n",
    "        password = \"dsa3101\",\n",
    "        database = \"secdb\"\n",
    "        )\n",
    "    # uncomment below for dockerised usage\n",
    "    # db = mysql.connector.connect(\n",
    "    #     host = \"database\",\n",
    "    #     user = \"root\",\n",
    "    #     password = \"dsa3101\",\n",
    "    #     database = \"secdb\"\n",
    "    #     )\n",
    "    return db"
   ]
  },
  {
   "cell_type": "code",
   "execution_count": 2,
   "metadata": {},
   "outputs": [],
   "source": [
    "# add users\n",
    "def add_user_roles(filepath):\n",
    "\n",
    "    try: \n",
    "        ## establish connection\n",
    "        db = establish_sql_connection()\n",
    "        cursor = db.cursor()\n",
    "        print(f'db established: {db.is_connected()}')\n",
    "\n",
    "        ## read users from path and change to QUERY format\n",
    "        file = open(filepath, 'r')\n",
    "        values = file.read().split(\"\\n\")\n",
    "        values = list(map(lambda x: f'(\\'{x}\\')',values))\n",
    "        values = \", \".join(values)\n",
    "        query = f'INSERT INTO User_roles(role) VALUES {values};'\n",
    "\n",
    "        cursor.execute(query)\n",
    "        db.commit()\n",
    "        print(f\"Number of rows affected: {cursor.rowcount}\")\n",
    "\n",
    "    except mysql.connector.Error as err:\n",
    "        print(f\"Database error: {err}\")\n"
   ]
  },
  {
   "cell_type": "code",
   "execution_count": 3,
   "metadata": {},
   "outputs": [
    {
     "name": "stdout",
     "output_type": "stream",
     "text": [
      "db established: True\n",
      "Database error: 1062 (23000): Duplicate entry 'security' for key 'User_roles.role'\n"
     ]
    }
   ],
   "source": [
    "add_user_roles('User_roles.txt')"
   ]
  },
  {
   "cell_type": "code",
   "execution_count": 44,
   "metadata": {},
   "outputs": [],
   "source": [
    "def add_user(username, password, role, email=None):\n",
    "    try: \n",
    "        ## establish connection\n",
    "        db = establish_sql_connection()\n",
    "        cursor = db.cursor()\n",
    "        print(f'db established: {db.is_connected()}')\n",
    "\n",
    "        ## generate hash and salt\n",
    "        salt = bcrypt.gensalt()\n",
    "        hash = bcrypt.hashpw(password.encode('utf-8'), salt)\n",
    "\n",
    "        ## get role id\n",
    "        query = f'SELECT id FROM User_roles \\\n",
    "                                 where role = \\'{role}\\';'\n",
    "        cursor.execute(query)\n",
    "        role_id=cursor.fetchall()[0][0]\n",
    "\n",
    "        ## insert query\n",
    "        query = f\"\\\n",
    "            INSERT INTO Users\\\n",
    "            (email, username, role_id, salt, hash)\\\n",
    "            VALUES (\\'{email}\\', \\'{username}\\', {role_id}, \\'{salt.decode('utf-8')}\\', \\'{hash.decode('utf-8')}\\')\"\n",
    "        cursor.execute(query)\n",
    "        db.commit()\n",
    "\n",
    "    except mysql.connector.Error as err:\n",
    "        print(f\"Database error: {err}\")\n",
    "\n",
    "    finally:\n",
    "        cursor.close()\n",
    "        db.close()\n",
    "\n"
   ]
  },
  {
   "cell_type": "code",
   "execution_count": 46,
   "metadata": {},
   "outputs": [
    {
     "name": "stdout",
     "output_type": "stream",
     "text": [
      "db established: True\n",
      "Database error: 1062 (23000): Duplicate entry 'sec1' for key 'Users.username'\n",
      "Users: [(1, 'sec1', 'sec1@nus.edu.sg', 1, '$2b$12$FBj1Icg.TtoZ5GDN/CKbeO', '$2b$12$FBj1Icg.TtoZ5GDN/CKbeOvSn4AccTiuu9zoE2oUu/L81rGTFc23C')]\n"
     ]
    }
   ],
   "source": [
    "add_user('sec1','sec1','security','sec1@nus.edu.sg')\n",
    "\n",
    "db = establish_sql_connection()\n",
    "cursor = db.cursor()\n",
    "query = \"SELECT * from Users\"\n",
    "cursor.execute(query)\n",
    "Users = cursor.fetchall()\n",
    "print(f'Users: {Users}')\n",
    "cursor.close()\n",
    "db.close()"
   ]
  },
  {
   "cell_type": "code",
   "execution_count": 88,
   "metadata": {},
   "outputs": [],
   "source": [
    "def authenticate(user,password):\n",
    "    try:\n",
    "        db = establish_sql_connection()\n",
    "        cursor = db.cursor()\n",
    "        query = f\"SELECT hash from Users where username = \\'{user}\\'\"\n",
    "        cursor.execute(query)\n",
    "        hash_stored = cursor.fetchall()\n",
    "\n",
    "        ## Check username\n",
    "        if len(hash_stored) == 0:\n",
    "            print(\"User not found\")\n",
    "            return False\n",
    "        \n",
    "        ## Check password\n",
    "        hash_stored = hash_stored[0][0]\n",
    "        query = f\"SELECT salt from Users where username = \\'{user}\\'\"\n",
    "        cursor.execute(query)\n",
    "        salt = cursor.fetchall()[0][0]\n",
    "        hash_entered = bcrypt.hashpw(password.encode('utf-8'),salt.encode('utf-8'))\n",
    "    \n",
    "    except mysql.connector.Error as err:\n",
    "        print(f\"Database error: {err}\")\n",
    "    \n",
    "    finally:\n",
    "        cursor.close()\n",
    "        db.close()\n",
    "\n",
    "    ## Check results\n",
    "    authenticated = (hash_stored == hash_entered.decode('utf-8'))\n",
    "    \n",
    "    return authenticated\n",
    "\n",
    "\n"
   ]
  },
  {
   "cell_type": "code",
   "execution_count": 87,
   "metadata": {},
   "outputs": [
    {
     "data": {
      "text/plain": [
       "True"
      ]
     },
     "execution_count": 87,
     "metadata": {},
     "output_type": "execute_result"
    }
   ],
   "source": [
    "authenticate(\"sec1\",\"sec1\")"
   ]
  }
 ],
 "metadata": {
  "kernelspec": {
   "display_name": "Python 3",
   "language": "python",
   "name": "python3"
  },
  "language_info": {
   "codemirror_mode": {
    "name": "ipython",
    "version": 3
   },
   "file_extension": ".py",
   "mimetype": "text/x-python",
   "name": "python",
   "nbconvert_exporter": "python",
   "pygments_lexer": "ipython3",
   "version": "3.10.0"
  }
 },
 "nbformat": 4,
 "nbformat_minor": 2
}
