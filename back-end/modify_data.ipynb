{
 "cells": [
  {
   "cell_type": "code",
   "execution_count": 28,
   "id": "4b786f09-0c4d-4fef-8d3e-3c350cef8a8f",
   "metadata": {},
   "outputs": [],
   "source": [
    "import os\n",
    "import pandas as pd\n",
    "import numpy as np\n",
    "import random"
   ]
  },
  {
   "cell_type": "code",
   "execution_count": 44,
   "id": "412d3aca-dc60-49f0-8c1a-d44c9238ef7f",
   "metadata": {},
   "outputs": [
    {
     "data": {
      "text/plain": [
       "'YIH'"
      ]
     },
     "execution_count": 44,
     "metadata": {},
     "output_type": "execute_result"
    }
   ],
   "source": [
    "loc['Location'][random.randint(0,342)]"
   ]
  },
  {
   "cell_type": "code",
   "execution_count": 2,
   "id": "94de7b8f-2efd-4212-97b5-07d9b31a032f",
   "metadata": {},
   "outputs": [],
   "source": [
    "mydir= os.getcwd()"
   ]
  },
  {
   "cell_type": "code",
   "execution_count": 64,
   "id": "bd1d42a3-7b49-4fc5-84e3-9feb8764d262",
   "metadata": {},
   "outputs": [],
   "source": [
    "df=pd.read_csv(os.path.join(mydir,'security_data.csv'))\n",
    "df=df.drop(columns=['Location'])"
   ]
  },
  {
   "cell_type": "code",
   "execution_count": 14,
   "id": "c030e205-2a13-4bcd-8c90-05301057db14",
   "metadata": {},
   "outputs": [],
   "source": [
    "columns_titles = [\"Location\",\"Buildings\"]\n",
    "loc=loc.reindex(columns=columns_titles)\n"
   ]
  },
  {
   "cell_type": "code",
   "execution_count": 66,
   "id": "c54e2d40-b507-467a-aa3c-91073b0f97df",
   "metadata": {},
   "outputs": [
    {
     "data": {
      "text/html": [
       "<div>\n",
       "<style scoped>\n",
       "    .dataframe tbody tr th:only-of-type {\n",
       "        vertical-align: middle;\n",
       "    }\n",
       "\n",
       "    .dataframe tbody tr th {\n",
       "        vertical-align: top;\n",
       "    }\n",
       "\n",
       "    .dataframe thead th {\n",
       "        text-align: right;\n",
       "    }\n",
       "</style>\n",
       "<table border=\"1\" class=\"dataframe\">\n",
       "  <thead>\n",
       "    <tr style=\"text-align: right;\">\n",
       "      <th></th>\n",
       "      <th>id</th>\n",
       "      <th>Date</th>\n",
       "      <th>Time</th>\n",
       "      <th>Crime</th>\n",
       "      <th>Location</th>\n",
       "      <th>Building</th>\n",
       "    </tr>\n",
       "  </thead>\n",
       "  <tbody>\n",
       "    <tr>\n",
       "      <th>0</th>\n",
       "      <td>1</td>\n",
       "      <td>04/02/2023</td>\n",
       "      <td>11:53</td>\n",
       "      <td>Sexual Incident Reports</td>\n",
       "      <td>HALL</td>\n",
       "      <td>TEMASEK HALL (COMMUNAL HALL)</td>\n",
       "    </tr>\n",
       "    <tr>\n",
       "      <th>1</th>\n",
       "      <td>2</td>\n",
       "      <td>23/08/2023</td>\n",
       "      <td>12:34</td>\n",
       "      <td>Sexual Incident Reports</td>\n",
       "      <td>KV</td>\n",
       "      <td>KENT VALE APARTMENT BLK A,103</td>\n",
       "    </tr>\n",
       "    <tr>\n",
       "      <th>2</th>\n",
       "      <td>3</td>\n",
       "      <td>15/05/2023</td>\n",
       "      <td>12:31</td>\n",
       "      <td>stolen items</td>\n",
       "      <td>FOS</td>\n",
       "      <td>LECTURE THEATRE 26</td>\n",
       "    </tr>\n",
       "    <tr>\n",
       "      <th>3</th>\n",
       "      <td>4</td>\n",
       "      <td>15/09/2023</td>\n",
       "      <td>22:02</td>\n",
       "      <td>cases of emergency</td>\n",
       "      <td>UTown</td>\n",
       "      <td>COLLEGE OF A&amp;P TAN -TOWER</td>\n",
       "    </tr>\n",
       "    <tr>\n",
       "      <th>4</th>\n",
       "      <td>5</td>\n",
       "      <td>21/02/2023</td>\n",
       "      <td>19:42</td>\n",
       "      <td>stolen items</td>\n",
       "      <td>UTown</td>\n",
       "      <td>TEMBUSU COLLEGE- MPH</td>\n",
       "    </tr>\n",
       "  </tbody>\n",
       "</table>\n",
       "</div>"
      ],
      "text/plain": [
       "   id        Date   Time                    Crime Location  \\\n",
       "0   1  04/02/2023  11:53  Sexual Incident Reports     HALL   \n",
       "1   2  23/08/2023  12:34  Sexual Incident Reports       KV   \n",
       "2   3  15/05/2023  12:31             stolen items      FOS   \n",
       "3   4  15/09/2023  22:02       cases of emergency    UTown   \n",
       "4   5  21/02/2023  19:42             stolen items    UTown   \n",
       "\n",
       "                        Building  \n",
       "0   TEMASEK HALL (COMMUNAL HALL)  \n",
       "1  KENT VALE APARTMENT BLK A,103  \n",
       "2             LECTURE THEATRE 26  \n",
       "3      COLLEGE OF A&P TAN -TOWER  \n",
       "4           TEMBUSU COLLEGE- MPH  "
      ]
     },
     "execution_count": 66,
     "metadata": {},
     "output_type": "execute_result"
    }
   ],
   "source": [
    "df.head()"
   ]
  },
  {
   "cell_type": "code",
   "execution_count": 11,
   "id": "7afceecd-8608-437f-8c00-1774c0f003ac",
   "metadata": {},
   "outputs": [],
   "source": [
    "loc=pd.read_csv(os.path.join(mydir,'list_bldgs.csv'))"
   ]
  },
  {
   "cell_type": "code",
   "execution_count": 57,
   "id": "92cd1e13-a4ec-4de1-ac85-9f8df50544bc",
   "metadata": {},
   "outputs": [
    {
     "data": {
      "text/plain": [
       "343"
      ]
     },
     "execution_count": 57,
     "metadata": {},
     "output_type": "execute_result"
    }
   ],
   "source": [
    "dt={'Location':[],'Building':[]}\n",
    "loc.shape[0]"
   ]
  },
  {
   "cell_type": "code",
   "execution_count": 58,
   "id": "1df2d8d3-9717-4fc2-9d9f-60e3607b84a1",
   "metadata": {},
   "outputs": [],
   "source": [
    "for i in range(df.shape[0]):\n",
    "    a=random.randint(0,342)\n",
    "    dt['Location'].append(loc['Location'][a])\n",
    "    dt['Building'].append(loc['Buildings'][a])"
   ]
  },
  {
   "cell_type": "code",
   "execution_count": 62,
   "id": "bfd285e9-819c-40de-95b3-d474687205b9",
   "metadata": {},
   "outputs": [],
   "source": [
    "Loc=pd.DataFrame(dt)"
   ]
  },
  {
   "cell_type": "code",
   "execution_count": 65,
   "id": "d62bc0de-46ea-4e87-a2bc-58e5a4cc5b65",
   "metadata": {},
   "outputs": [],
   "source": [
    "df=pd.concat([df,Loc],axis=1)"
   ]
  },
  {
   "cell_type": "code",
   "execution_count": 67,
   "id": "fc1cf319-23e1-4e77-9d5d-fde889dcc67d",
   "metadata": {},
   "outputs": [],
   "source": [
    "df.to_csv(\"security_data_updated.csv\")"
   ]
  }
 ],
 "metadata": {
  "kernelspec": {
   "display_name": "Python 3 (ipykernel)",
   "language": "python",
   "name": "python3"
  },
  "language_info": {
   "codemirror_mode": {
    "name": "ipython",
    "version": 3
   },
   "file_extension": ".py",
   "mimetype": "text/x-python",
   "name": "python",
   "nbconvert_exporter": "python",
   "pygments_lexer": "ipython3",
   "version": "3.10.13"
  }
 },
 "nbformat": 4,
 "nbformat_minor": 5
}
