{
 "cells": [
  {
   "cell_type": "code",
   "execution_count": 2,
   "metadata": {},
   "outputs": [
    {
     "name": "stdout",
     "output_type": "stream",
     "text": [
      "Collecting mlxtend\n",
      "  Obtaining dependency information for mlxtend from https://files.pythonhosted.org/packages/73/da/d5d77a9a7a135c948dbf8d3b873655b105a152d69e590150c83d23c3d070/mlxtend-0.23.0-py3-none-any.whl.metadata\n",
      "  Downloading mlxtend-0.23.0-py3-none-any.whl.metadata (7.3 kB)\n",
      "Requirement already satisfied: scipy>=1.2.1 in c:\\users\\irfan\\anaconda3\\envs\\dsa3101\\lib\\site-packages (from mlxtend) (1.11.3)\n",
      "Requirement already satisfied: numpy>=1.16.2 in c:\\users\\irfan\\anaconda3\\envs\\dsa3101\\lib\\site-packages (from mlxtend) (1.26.1)\n",
      "Requirement already satisfied: pandas>=0.24.2 in c:\\users\\irfan\\anaconda3\\envs\\dsa3101\\lib\\site-packages (from mlxtend) (2.1.2)\n",
      "Requirement already satisfied: scikit-learn>=1.0.2 in c:\\users\\irfan\\anaconda3\\envs\\dsa3101\\lib\\site-packages (from mlxtend) (1.3.2)\n",
      "Requirement already satisfied: matplotlib>=3.0.0 in c:\\users\\irfan\\anaconda3\\envs\\dsa3101\\lib\\site-packages (from mlxtend) (3.8.0)\n",
      "Requirement already satisfied: joblib>=0.13.2 in c:\\users\\irfan\\anaconda3\\envs\\dsa3101\\lib\\site-packages (from mlxtend) (1.3.2)\n",
      "Requirement already satisfied: contourpy>=1.0.1 in c:\\users\\irfan\\anaconda3\\envs\\dsa3101\\lib\\site-packages (from matplotlib>=3.0.0->mlxtend) (1.1.1)\n",
      "Requirement already satisfied: cycler>=0.10 in c:\\users\\irfan\\anaconda3\\envs\\dsa3101\\lib\\site-packages (from matplotlib>=3.0.0->mlxtend) (0.12.1)\n",
      "Requirement already satisfied: fonttools>=4.22.0 in c:\\users\\irfan\\anaconda3\\envs\\dsa3101\\lib\\site-packages (from matplotlib>=3.0.0->mlxtend) (4.43.1)\n",
      "Requirement already satisfied: kiwisolver>=1.0.1 in c:\\users\\irfan\\anaconda3\\envs\\dsa3101\\lib\\site-packages (from matplotlib>=3.0.0->mlxtend) (1.4.5)\n",
      "Requirement already satisfied: packaging>=20.0 in c:\\users\\irfan\\anaconda3\\envs\\dsa3101\\lib\\site-packages (from matplotlib>=3.0.0->mlxtend) (23.2)\n",
      "Requirement already satisfied: pillow>=6.2.0 in c:\\users\\irfan\\anaconda3\\envs\\dsa3101\\lib\\site-packages (from matplotlib>=3.0.0->mlxtend) (10.1.0)\n",
      "Requirement already satisfied: pyparsing>=2.3.1 in c:\\users\\irfan\\anaconda3\\envs\\dsa3101\\lib\\site-packages (from matplotlib>=3.0.0->mlxtend) (3.1.1)\n",
      "Requirement already satisfied: python-dateutil>=2.7 in c:\\users\\irfan\\anaconda3\\envs\\dsa3101\\lib\\site-packages (from matplotlib>=3.0.0->mlxtend) (2.8.2)\n",
      "Requirement already satisfied: pytz>=2020.1 in c:\\users\\irfan\\anaconda3\\envs\\dsa3101\\lib\\site-packages (from pandas>=0.24.2->mlxtend) (2023.3.post1)\n",
      "Requirement already satisfied: tzdata>=2022.1 in c:\\users\\irfan\\anaconda3\\envs\\dsa3101\\lib\\site-packages (from pandas>=0.24.2->mlxtend) (2023.3)\n",
      "Requirement already satisfied: threadpoolctl>=2.0.0 in c:\\users\\irfan\\anaconda3\\envs\\dsa3101\\lib\\site-packages (from scikit-learn>=1.0.2->mlxtend) (3.2.0)\n",
      "Requirement already satisfied: six>=1.5 in c:\\users\\irfan\\anaconda3\\envs\\dsa3101\\lib\\site-packages (from python-dateutil>=2.7->matplotlib>=3.0.0->mlxtend) (1.16.0)\n",
      "Downloading mlxtend-0.23.0-py3-none-any.whl (1.4 MB)\n",
      "   ---------------------------------------- 0.0/1.4 MB ? eta -:--:--\n",
      "    --------------------------------------- 0.0/1.4 MB 1.3 MB/s eta 0:00:02\n",
      "   ---------- ----------------------------- 0.4/1.4 MB 4.9 MB/s eta 0:00:01\n",
      "   --------------------------- ------------ 1.0/1.4 MB 7.9 MB/s eta 0:00:01\n",
      "   ---------------------------------------- 1.4/1.4 MB 9.2 MB/s eta 0:00:00\n",
      "Installing collected packages: mlxtend\n",
      "Successfully installed mlxtend-0.23.0\n"
     ]
    }
   ],
   "source": [
    "!pip install mlxtend"
   ]
  },
  {
   "cell_type": "code",
   "execution_count": 33,
   "metadata": {
    "colab": {
     "base_uri": "https://localhost:8080/"
    },
    "id": "YUBPAUrzNHBF",
    "outputId": "a13c957b-b2b0-49f7-cbdb-c5defd071128"
   },
   "outputs": [],
   "source": [
    "import pandas as pd\n",
    "import numpy as np\n",
    "import os\n",
    "from mlxtend.frequent_patterns import apriori\n",
    "import matplotlib.pyplot as plt\n",
    "import warnings"
   ]
  },
  {
   "cell_type": "code",
   "execution_count": 4,
   "metadata": {
    "colab": {
     "base_uri": "https://localhost:8080/"
    },
    "id": "yThN40RENBkC",
    "outputId": "478221c2-cc0d-411b-d593-97afb2090774"
   },
   "outputs": [],
   "source": [
    "mydir=os.getcwd()"
   ]
  },
  {
   "cell_type": "code",
   "execution_count": 5,
   "metadata": {
    "colab": {
     "base_uri": "https://localhost:8080/"
    },
    "id": "azEXEYiSNRqo",
    "outputId": "03fca1d3-73d5-422f-f0e0-b9899ec7892e"
   },
   "outputs": [],
   "source": [
    "df=pd.read_csv(os.path.join(mydir,'../data/data_v0.3_with_status.csv'))"
   ]
  },
  {
   "cell_type": "code",
   "execution_count": 34,
   "metadata": {
    "colab": {
     "base_uri": "https://localhost:8080/"
    },
    "id": "lr6bCXJSyfU2",
    "outputId": "1340eba9-6894-4411-9385-036956839d94"
   },
   "outputs": [],
   "source": [
    "def get_rank(csv,test):\n",
    "  # loading data\n",
    "  df=pd.read_csv(os.path.join(mydir,csv))\n",
    "\n",
    "  warnings.filterwarnings(\"ignore\")\n",
    "  #changing data types\n",
    "  def convert_dataframe(data):\n",
    "    data=data[data['Status']=='Open']\n",
    "    data['Time']=pd.to_datetime(data['Time'])\n",
    "    data['Year'] = data['Time'].dt.year\n",
    "    data['DayOfYear'] = data['Time'].dt.dayofyear\n",
    "    data['Month'] = data['Time'].dt.month_name()\n",
    "    data['DayOfWeek'] = data['Time'].dt.day_name()\n",
    "    data['HourOfDay']=data['Time'].dt.hour\n",
    "    data['HourOfDay']=data['HourOfDay'].map({0:'Late Night',1:'Late Night',2:'Late Night',3:'Late Night',4:'Late Night',5:'Early Morning',6:'Early Morning',7:'Early Morning',8:'Morning',9:'Morning',10:'Morning',11:'Afternoon',12:'Afternoon',13:'Afternoon',14:'Afternoon',15:'Evening',16:'Evening',17:'Evening',18:'Evening',19:'Night',20:'Night',21:'Night',22:'Night',23:'Late Night'})\n",
    "    return data\n",
    "\n",
    "  df=convert_dataframe(df)\n",
    "  #print('df')\n",
    "  #print(df.head(3))\n",
    "\n",
    "  #selecting necessary columns\n",
    "  data=df[['Location','DayOfWeek','HourOfDay']]\n",
    "  # print('data')\n",
    "  # print(data.head(3))\n",
    "\n",
    "  #one-hot encoding all data\n",
    "  encoded_data = pd.get_dummies(data, columns=['Location', 'DayOfWeek','HourOfDay'], prefix='', prefix_sep='')\n",
    "  # print('encoded_data')\n",
    "  # print(encoded_data.head(3))\n",
    "\n",
    "  # using apriori algorithm\n",
    "  frequent_crimes = apriori(encoded_data, min_support=0.0001, use_colnames=True)\n",
    "  # print('frequent_crimes')\n",
    "  # print(frequent_crimes.head(3))\n",
    "\n",
    "  #conversion for prediction\n",
    "  fc={'support':[],'itemsets':[]}\n",
    "  for i in range(frequent_crimes.shape[0]):\n",
    "    if len(frequent_crimes['itemsets'][i])==3:\n",
    "      fc['support'].append(frequent_crimes['support'][i])\n",
    "      temp=list(frequent_crimes['itemsets'][i])\n",
    "      temp.sort()\n",
    "      fc['itemsets'].append(temp)\n",
    "\n",
    "  fc=pd.DataFrame(fc)\n",
    "  fc=fc.sort_values(by=['support'],ascending=False)\n",
    "  fc=fc.reset_index()\n",
    "  fc=fc.drop(columns=['index'])\n",
    "  fc=fc.reset_index()\n",
    "  fc=fc.rename(columns={'index':'rank'})\n",
    "  # print('fc')\n",
    "  # print(fc.head(10))\n",
    "\n",
    "  #predicting hotspot\n",
    "  test.sort()\n",
    "  for i in range(fc.shape[0]-1):\n",
    "      if test==fc['itemsets'][i]:\n",
    "        rank=fc['rank'][i]\n",
    "        total=fc.shape[0]\n",
    "        return f'Priority {rank+1} out of {total}'\n",
    "\n",
    "  return print( \"Error: Check spelling or format! e.g.['PGP', 'Saturday', 'Afternoon'] \\nOR \\nNew Combination. Please add to the database!\")"
   ]
  },
  {
   "cell_type": "code",
   "execution_count": 36,
   "metadata": {
    "scrolled": true
   },
   "outputs": [
    {
     "name": "stdout",
     "output_type": "stream",
     "text": [
      "Error: Check spelling or format! e.g.['PGP', 'Saturday', 'Afternoon'] \n",
      "OR \n",
      "New Combination. Please add to the database!\n"
     ]
    }
   ],
   "source": [
    "get_rank('../data/data_v0.3_with_status.csv',['PGP', 'Saurday','Afternoon'])"
   ]
  }
 ],
 "metadata": {
  "colab": {
   "provenance": []
  },
  "kernelspec": {
   "display_name": "Python 3 (ipykernel)",
   "language": "python",
   "name": "python3"
  },
  "language_info": {
   "codemirror_mode": {
    "name": "ipython",
    "version": 3
   },
   "file_extension": ".py",
   "mimetype": "text/x-python",
   "name": "python",
   "nbconvert_exporter": "python",
   "pygments_lexer": "ipython3",
   "version": "3.10.12"
  }
 },
 "nbformat": 4,
 "nbformat_minor": 4
}
