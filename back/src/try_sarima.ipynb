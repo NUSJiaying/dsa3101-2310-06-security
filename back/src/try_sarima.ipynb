{
 "cells": [
  {
   "cell_type": "code",
   "execution_count": 27,
   "metadata": {},
   "outputs": [],
   "source": [
    "import pandas as pd\n",
    "import matplotlib.pyplot as plt\n",
    "import csv\n",
    "from sklearn.metrics import mean_absolute_error\n",
    "from datetime import datetime\n",
    "import pickle\n",
    "from statsmodels.tsa.statespace.sarimax import SARIMAX\n",
    "from pmdarima import auto_arima"
   ]
  },
  {
   "cell_type": "code",
   "execution_count": 36,
   "metadata": {},
   "outputs": [],
   "source": [
    "df = pd.DataFrame(columns=['Date', 'Incident Type', 'MAE'])\n",
    "df.to_csv('mae_tracking.csv', index=False)\n"
   ]
  },
  {
   "cell_type": "code",
   "execution_count": 15,
   "metadata": {},
   "outputs": [],
   "source": [
    "data = pd.read_csv(\"../data/data_v0.2_intermediate(for checking)_with_status.csv\")\n",
    "incident_types = data[\"Incidents\"].unique()"
   ]
  },
  {
   "cell_type": "code",
   "execution_count": 39,
   "metadata": {},
   "outputs": [
    {
     "data": {
      "text/html": [
       "<div>\n",
       "<style scoped>\n",
       "    .dataframe tbody tr th:only-of-type {\n",
       "        vertical-align: middle;\n",
       "    }\n",
       "\n",
       "    .dataframe tbody tr th {\n",
       "        vertical-align: top;\n",
       "    }\n",
       "\n",
       "    .dataframe thead th {\n",
       "        text-align: right;\n",
       "    }\n",
       "</style>\n",
       "<table border=\"1\" class=\"dataframe\">\n",
       "  <thead>\n",
       "    <tr style=\"text-align: right;\">\n",
       "      <th></th>\n",
       "      <th>IncidentID</th>\n",
       "      <th>Open</th>\n",
       "      <th>Add</th>\n",
       "      <th>Close</th>\n",
       "      <th>Year</th>\n",
       "      <th>DayOfYear</th>\n",
       "      <th>Month</th>\n",
       "      <th>DayOfWeek</th>\n",
       "      <th>time_period</th>\n",
       "      <th>Building</th>\n",
       "      <th>Location</th>\n",
       "      <th>Latitude</th>\n",
       "      <th>Longitude</th>\n",
       "      <th>Incidents</th>\n",
       "      <th>User</th>\n",
       "    </tr>\n",
       "  </thead>\n",
       "  <tbody>\n",
       "    <tr>\n",
       "      <th>0</th>\n",
       "      <td>1</td>\n",
       "      <td>2019-02-13 13:05:00</td>\n",
       "      <td>2.701401</td>\n",
       "      <td>2019-02-16 05:55:01</td>\n",
       "      <td>2019</td>\n",
       "      <td>44</td>\n",
       "      <td>2</td>\n",
       "      <td>2</td>\n",
       "      <td>day_weekday</td>\n",
       "      <td>SRC MINI GRAND STAND</td>\n",
       "      <td>YIH</td>\n",
       "      <td>1.298646</td>\n",
       "      <td>103.777740</td>\n",
       "      <td>LOST AND FOUND</td>\n",
       "      <td>sec3</td>\n",
       "    </tr>\n",
       "    <tr>\n",
       "      <th>1</th>\n",
       "      <td>2</td>\n",
       "      <td>2019-03-02 13:55:00</td>\n",
       "      <td>2.455224</td>\n",
       "      <td>2019-03-05 00:50:31</td>\n",
       "      <td>2019</td>\n",
       "      <td>61</td>\n",
       "      <td>3</td>\n",
       "      <td>5</td>\n",
       "      <td>weekend</td>\n",
       "      <td>PGP RESIDENCES (BLOCK 13)</td>\n",
       "      <td>PGP</td>\n",
       "      <td>1.290868</td>\n",
       "      <td>103.780276</td>\n",
       "      <td>LOST AND FOUND</td>\n",
       "      <td>sec3</td>\n",
       "    </tr>\n",
       "    <tr>\n",
       "      <th>2</th>\n",
       "      <td>3</td>\n",
       "      <td>2019-03-18 03:05:00</td>\n",
       "      <td>2.855855</td>\n",
       "      <td>2019-03-20 23:37:26</td>\n",
       "      <td>2019</td>\n",
       "      <td>77</td>\n",
       "      <td>3</td>\n",
       "      <td>0</td>\n",
       "      <td>day_weekday</td>\n",
       "      <td>PGP RESIDENCES CANTEEN 2</td>\n",
       "      <td>PGP</td>\n",
       "      <td>1.290620</td>\n",
       "      <td>103.781695</td>\n",
       "      <td>LOST AND FOUND</td>\n",
       "      <td>sec3</td>\n",
       "    </tr>\n",
       "    <tr>\n",
       "      <th>3</th>\n",
       "      <td>4</td>\n",
       "      <td>2018-11-16 16:42:00</td>\n",
       "      <td>2.284904</td>\n",
       "      <td>2018-11-18 23:32:16</td>\n",
       "      <td>2018</td>\n",
       "      <td>320</td>\n",
       "      <td>11</td>\n",
       "      <td>4</td>\n",
       "      <td>day_weekday</td>\n",
       "      <td>KENT VALE APARTMENT BLK G, 115</td>\n",
       "      <td>KV</td>\n",
       "      <td>1.302494</td>\n",
       "      <td>103.770315</td>\n",
       "      <td>LOST AND FOUND</td>\n",
       "      <td>sec4</td>\n",
       "    </tr>\n",
       "    <tr>\n",
       "      <th>4</th>\n",
       "      <td>5</td>\n",
       "      <td>2018-09-28 14:03:00</td>\n",
       "      <td>6.858280</td>\n",
       "      <td>2018-10-05 10:38:55</td>\n",
       "      <td>2018</td>\n",
       "      <td>271</td>\n",
       "      <td>9</td>\n",
       "      <td>4</td>\n",
       "      <td>day_weekday</td>\n",
       "      <td>YALE FITNESS CENTER</td>\n",
       "      <td>UTown</td>\n",
       "      <td>1.307479</td>\n",
       "      <td>103.772585</td>\n",
       "      <td>DAMAGED PROPERTY</td>\n",
       "      <td>sec1</td>\n",
       "    </tr>\n",
       "  </tbody>\n",
       "</table>\n",
       "</div>"
      ],
      "text/plain": [
       "   IncidentID                 Open       Add                Close  Year  \\\n",
       "0           1  2019-02-13 13:05:00  2.701401  2019-02-16 05:55:01  2019   \n",
       "1           2  2019-03-02 13:55:00  2.455224  2019-03-05 00:50:31  2019   \n",
       "2           3  2019-03-18 03:05:00  2.855855  2019-03-20 23:37:26  2019   \n",
       "3           4  2018-11-16 16:42:00  2.284904  2018-11-18 23:32:16  2018   \n",
       "4           5  2018-09-28 14:03:00  6.858280  2018-10-05 10:38:55  2018   \n",
       "\n",
       "   DayOfYear  Month  DayOfWeek  time_period                        Building  \\\n",
       "0         44      2          2  day_weekday            SRC MINI GRAND STAND   \n",
       "1         61      3          5      weekend       PGP RESIDENCES (BLOCK 13)   \n",
       "2         77      3          0  day_weekday        PGP RESIDENCES CANTEEN 2   \n",
       "3        320     11          4  day_weekday  KENT VALE APARTMENT BLK G, 115   \n",
       "4        271      9          4  day_weekday             YALE FITNESS CENTER   \n",
       "\n",
       "  Location  Latitude   Longitude         Incidents  User  \n",
       "0      YIH  1.298646  103.777740    LOST AND FOUND  sec3  \n",
       "1      PGP  1.290868  103.780276    LOST AND FOUND  sec3  \n",
       "2      PGP  1.290620  103.781695    LOST AND FOUND  sec3  \n",
       "3       KV  1.302494  103.770315    LOST AND FOUND  sec4  \n",
       "4    UTown  1.307479  103.772585  DAMAGED PROPERTY  sec1  "
      ]
     },
     "execution_count": 39,
     "metadata": {},
     "output_type": "execute_result"
    }
   ],
   "source": [
    "def fetch_data(incident_type=False):\n",
    "    # to edit to load from sql server\n",
    "    data = pd.read_csv(\"../data/data_v0.2_intermediate(for checking)_with_status.csv\")\n",
    "    if incident_type:\n",
    "        data = data.loc[data['Incidents'] == incident_type]\n",
    "    return data\n",
    "all = fetch_data()\n"
   ]
  },
  {
   "cell_type": "code",
   "execution_count": 10,
   "metadata": {},
   "outputs": [],
   "source": [
    "def engineer_features(data):\n",
    "    data['Open'] = pd.to_datetime(data['Open'])\n",
    "    data.sort_values('Open', inplace=True)\n",
    "\n",
    "    data.set_index('Open', inplace=True)\n",
    "\n",
    "    weekly_data = data['IncidentID'].resample('W').count()\n",
    "\n",
    "    last_date = weekly_data.index[-1]\n",
    "\n",
    "    split_date_1_year = last_date - pd.DateOffset(years=1)\n",
    "\n",
    "    train = weekly_data.loc[weekly_data.index <= split_date_1_year]\n",
    "    test = weekly_data.loc[weekly_data.index > split_date_1_year]\n",
    "\n",
    "    return weekly_data, train, test"
   ]
  },
  {
   "cell_type": "code",
   "execution_count": 40,
   "metadata": {},
   "outputs": [],
   "source": [
    "weekly_data, train, test = engineer_features(all)"
   ]
  },
  {
   "cell_type": "code",
   "execution_count": 25,
   "metadata": {},
   "outputs": [],
   "source": [
    "def train_and_evaluate(model, train, test):\n",
    "    model.fit(train)\n",
    "\n",
    "    predictions = model.predict(n_periods=len(test))\n",
    "\n",
    "    mae = mean_absolute_error(test, predictions)\n",
    "\n",
    "    return model, mae\n",
    "\n",
    "def save_model(model, filename):\n",
    "    with open(filename, 'wb') as pkl:\n",
    "        pickle.dump(model, pkl)"
   ]
  },
  {
   "cell_type": "code",
   "execution_count": null,
   "metadata": {},
   "outputs": [],
   "source": [
    "for incident_type in incident_types:\n",
    "    data = fetch_data(incident_type)\n",
    "    weekly_data, train, test = engineer_features(data)\n",
    "\n",
    "    model = auto_arima(weekly_incidents,\n",
    "                        start_p=0, start_q=0, \n",
    "                        max_p=0, max_q=0,     \n",
    "                        m=52,                 \n",
    "                        start_P=0, start_Q=0, \n",
    "                        max_P=2, max_Q=2,     \n",
    "                        seasonal=True,        \n",
    "                        d=0,                  \n",
    "                        D=1,                  \n",
    "                        trace=True,           \n",
    "                        error_action='ignore',  \n",
    "                        suppress_warnings=True, \n",
    "                        stepwise=True)\n",
    "\n",
    "    trained_model, mae = train_and_evaluate(model, train, test)\n",
    "\n",
    "    mae_df = pd.read_csv('mae_tracking.csv')\n",
    "    mae_df.loc[len(mae_df)] = [incident_type, mae]\n",
    "    mae_df.to_csv('mae_tracking.csv', index=False)\n",
    "\n",
    "    trained_model.fit(weekly_data)\n",
    "    save_model(trained_model, f'sarima_model_{incident_type}.pkl')"
   ]
  },
  {
   "cell_type": "code",
   "execution_count": 21,
   "metadata": {},
   "outputs": [
    {
     "name": "stdout",
     "output_type": "stream",
     "text": [
      "Performing stepwise search to minimize aic\n",
      " ARIMA(0,0,0)(0,1,0)[52] intercept   : AIC=1193.538, Time=0.34 sec\n",
      " ARIMA(0,0,0)(1,1,0)[52] intercept   : AIC=1158.547, Time=2.54 sec\n",
      " ARIMA(0,0,0)(0,1,1)[52] intercept   : AIC=inf, Time=7.39 sec\n",
      " ARIMA(0,0,0)(0,1,0)[52]             : AIC=1198.328, Time=0.22 sec\n",
      " ARIMA(0,0,0)(2,1,0)[52] intercept   : AIC=1150.969, Time=10.25 sec\n",
      " ARIMA(0,0,0)(3,1,0)[52] intercept   : AIC=inf, Time=32.32 sec\n",
      " ARIMA(0,0,0)(2,1,1)[52] intercept   : AIC=inf, Time=37.51 sec\n",
      " ARIMA(0,0,0)(1,1,1)[52] intercept   : AIC=inf, Time=12.48 sec\n",
      " ARIMA(0,0,0)(3,1,1)[52] intercept   : AIC=inf, Time=34.70 sec\n",
      " ARIMA(0,0,0)(2,1,0)[52]             : AIC=1164.676, Time=5.82 sec\n",
      "\n",
      "Best model:  ARIMA(0,0,0)(2,1,0)[52] intercept\n",
      "Total fit time: 143.727 seconds\n"
     ]
    },
    {
     "ename": "NameError",
     "evalue": "name 'train_and_evaluate' is not defined",
     "output_type": "error",
     "traceback": [
      "\u001b[0;31m---------------------------------------------------------------------------\u001b[0m",
      "\u001b[0;31mNameError\u001b[0m                                 Traceback (most recent call last)",
      "\u001b[1;32m/Users/sumiko/Desktop/git/DSA3101_Project/back/src/try_sarima.ipynb Cell 9\u001b[0m line \u001b[0;36m1\n\u001b[1;32m      <a href='vscode-notebook-cell:/Users/sumiko/Desktop/git/DSA3101_Project/back/src/try_sarima.ipynb#X12sZmlsZQ%3D%3D?line=2'>3</a>\u001b[0m weekly_data, train, test \u001b[39m=\u001b[39m engineer_features(data)\n\u001b[1;32m      <a href='vscode-notebook-cell:/Users/sumiko/Desktop/git/DSA3101_Project/back/src/try_sarima.ipynb#X12sZmlsZQ%3D%3D?line=4'>5</a>\u001b[0m model \u001b[39m=\u001b[39m auto_arima(train,\n\u001b[1;32m      <a href='vscode-notebook-cell:/Users/sumiko/Desktop/git/DSA3101_Project/back/src/try_sarima.ipynb#X12sZmlsZQ%3D%3D?line=5'>6</a>\u001b[0m                     start_p\u001b[39m=\u001b[39m\u001b[39m0\u001b[39m, start_q\u001b[39m=\u001b[39m\u001b[39m0\u001b[39m, \n\u001b[1;32m      <a href='vscode-notebook-cell:/Users/sumiko/Desktop/git/DSA3101_Project/back/src/try_sarima.ipynb#X12sZmlsZQ%3D%3D?line=6'>7</a>\u001b[0m                     max_p\u001b[39m=\u001b[39m\u001b[39m0\u001b[39m, max_q\u001b[39m=\u001b[39m\u001b[39m0\u001b[39m,     \n\u001b[0;32m   (...)\u001b[0m\n\u001b[1;32m     <a href='vscode-notebook-cell:/Users/sumiko/Desktop/git/DSA3101_Project/back/src/try_sarima.ipynb#X12sZmlsZQ%3D%3D?line=15'>16</a>\u001b[0m                     suppress_warnings\u001b[39m=\u001b[39m\u001b[39mTrue\u001b[39;00m, \n\u001b[1;32m     <a href='vscode-notebook-cell:/Users/sumiko/Desktop/git/DSA3101_Project/back/src/try_sarima.ipynb#X12sZmlsZQ%3D%3D?line=16'>17</a>\u001b[0m                     stepwise\u001b[39m=\u001b[39m\u001b[39mTrue\u001b[39;00m)\n\u001b[0;32m---> <a href='vscode-notebook-cell:/Users/sumiko/Desktop/git/DSA3101_Project/back/src/try_sarima.ipynb#X12sZmlsZQ%3D%3D?line=18'>19</a>\u001b[0m trained_model, mae \u001b[39m=\u001b[39m train_and_evaluate(model, train, test)\n\u001b[1;32m     <a href='vscode-notebook-cell:/Users/sumiko/Desktop/git/DSA3101_Project/back/src/try_sarima.ipynb#X12sZmlsZQ%3D%3D?line=20'>21</a>\u001b[0m mae_df \u001b[39m=\u001b[39m pd\u001b[39m.\u001b[39mread_csv(\u001b[39m'\u001b[39m\u001b[39mmae_tracking.csv\u001b[39m\u001b[39m'\u001b[39m)\n\u001b[1;32m     <a href='vscode-notebook-cell:/Users/sumiko/Desktop/git/DSA3101_Project/back/src/try_sarima.ipynb#X12sZmlsZQ%3D%3D?line=21'>22</a>\u001b[0m mae_df\u001b[39m.\u001b[39mloc[\u001b[39mlen\u001b[39m(mae_df)] \u001b[39m=\u001b[39m [datetime\u001b[39m.\u001b[39mnow(),incident_type, mae]\n",
      "\u001b[0;31mNameError\u001b[0m: name 'train_and_evaluate' is not defined"
     ]
    }
   ],
   "source": [
    "incident_type = \"LOST AND FOUND\"\n",
    "data = fetch_data(incident_type)\n",
    "weekly_data, train, test = engineer_features(data)\n",
    "\n",
    "model = auto_arima(train,\n",
    "                    start_p=0, start_q=0, \n",
    "                    max_p=0, max_q=0,     \n",
    "                    m=52,                 \n",
    "                    start_P=0, start_Q=0, \n",
    "                    max_P=2, max_Q=2,     \n",
    "                    seasonal=True,        \n",
    "                    d=0,                  \n",
    "                    D=1,                  \n",
    "                    trace=True,           \n",
    "                    error_action='ignore',  \n",
    "                    suppress_warnings=True, \n",
    "                    stepwise=True)\n",
    "\n",
    "trained_model, mae = train_and_evaluate(model, train, test)\n",
    "\n",
    "mae_df = pd.read_csv('mae_tracking.csv')\n",
    "mae_df.loc[len(mae_df)] = [datetime.now(),incident_type, mae]\n",
    "mae_df.to_csv('mae_tracking.csv', index=False)\n",
    "\n",
    "trained_model.fit(weekly_data)\n",
    "save_model(trained_model, f'sarima_model_{incident_type}.pkl')"
   ]
  },
  {
   "cell_type": "code",
   "execution_count": 23,
   "metadata": {},
   "outputs": [
    {
     "ename": "ValueError",
     "evalue": "could not convert string to float: '2018-08-07 09:26:34'",
     "output_type": "error",
     "traceback": [
      "\u001b[0;31m---------------------------------------------------------------------------\u001b[0m",
      "\u001b[0;31mValueError\u001b[0m                                Traceback (most recent call last)",
      "\u001b[0;32m/var/folders/jx/1ydmp_d53v52q1kv0yqb7rj80000gn/T/ipykernel_2134/954213855.py\u001b[0m in \u001b[0;36m?\u001b[0;34m()\u001b[0m\n\u001b[1;32m      3\u001b[0m \u001b[0mmae_df\u001b[0m \u001b[0;34m=\u001b[0m \u001b[0mpd\u001b[0m\u001b[0;34m.\u001b[0m\u001b[0mread_csv\u001b[0m\u001b[0;34m(\u001b[0m\u001b[0;34m'mae_tracking.csv'\u001b[0m\u001b[0;34m)\u001b[0m\u001b[0;34m\u001b[0m\u001b[0;34m\u001b[0m\u001b[0m\n\u001b[1;32m      4\u001b[0m \u001b[0mmae_df\u001b[0m\u001b[0;34m.\u001b[0m\u001b[0mloc\u001b[0m\u001b[0;34m[\u001b[0m\u001b[0mlen\u001b[0m\u001b[0;34m(\u001b[0m\u001b[0mmae_df\u001b[0m\u001b[0;34m)\u001b[0m\u001b[0;34m]\u001b[0m \u001b[0;34m=\u001b[0m \u001b[0;34m[\u001b[0m\u001b[0mdatetime\u001b[0m\u001b[0;34m.\u001b[0m\u001b[0mnow\u001b[0m\u001b[0;34m(\u001b[0m\u001b[0;34m)\u001b[0m\u001b[0;34m,\u001b[0m\u001b[0mincident_type\u001b[0m\u001b[0;34m,\u001b[0m \u001b[0mmae\u001b[0m\u001b[0;34m]\u001b[0m\u001b[0;34m\u001b[0m\u001b[0;34m\u001b[0m\u001b[0m\n\u001b[1;32m      5\u001b[0m \u001b[0mmae_df\u001b[0m\u001b[0;34m.\u001b[0m\u001b[0mto_csv\u001b[0m\u001b[0;34m(\u001b[0m\u001b[0;34m'mae_tracking.csv'\u001b[0m\u001b[0;34m,\u001b[0m \u001b[0mindex\u001b[0m\u001b[0;34m=\u001b[0m\u001b[0;32mFalse\u001b[0m\u001b[0;34m)\u001b[0m\u001b[0;34m\u001b[0m\u001b[0;34m\u001b[0m\u001b[0m\n\u001b[1;32m      6\u001b[0m \u001b[0;34m\u001b[0m\u001b[0m\n\u001b[0;32m----> 7\u001b[0;31m \u001b[0mtrained_model\u001b[0m\u001b[0;34m.\u001b[0m\u001b[0mfit\u001b[0m\u001b[0;34m(\u001b[0m\u001b[0mdata\u001b[0m\u001b[0;34m)\u001b[0m\u001b[0;34m\u001b[0m\u001b[0;34m\u001b[0m\u001b[0m\n\u001b[0m\u001b[1;32m      8\u001b[0m \u001b[0msave_model\u001b[0m\u001b[0;34m(\u001b[0m\u001b[0mtrained_model\u001b[0m\u001b[0;34m,\u001b[0m \u001b[0;34mf'sarima_model_{incident_type}.pkl'\u001b[0m\u001b[0;34m)\u001b[0m\u001b[0;34m\u001b[0m\u001b[0;34m\u001b[0m\u001b[0m\n",
      "\u001b[0;32m~/anaconda3/envs/dsa3101/lib/python3.10/site-packages/pmdarima/arima/arima.py\u001b[0m in \u001b[0;36m?\u001b[0;34m(self, y, X, **fit_args)\u001b[0m\n\u001b[1;32m    562\u001b[0m \u001b[0;34m\u001b[0m\u001b[0m\n\u001b[1;32m    563\u001b[0m         \u001b[0;34m**\u001b[0m\u001b[0mfit_args\u001b[0m \u001b[0;34m:\u001b[0m \u001b[0mdict\u001b[0m \u001b[0;32mor\u001b[0m \u001b[0mkwargs\u001b[0m\u001b[0;34m\u001b[0m\u001b[0;34m\u001b[0m\u001b[0m\n\u001b[1;32m    564\u001b[0m             \u001b[0mAny\u001b[0m \u001b[0mkeyword\u001b[0m \u001b[0marguments\u001b[0m \u001b[0mto\u001b[0m \u001b[0;32mpass\u001b[0m \u001b[0mto\u001b[0m \u001b[0mthe\u001b[0m \u001b[0mstatsmodels\u001b[0m \u001b[0mARIMA\u001b[0m \u001b[0mfit\u001b[0m\u001b[0;34m.\u001b[0m\u001b[0;34m\u001b[0m\u001b[0;34m\u001b[0m\u001b[0m\n\u001b[1;32m    565\u001b[0m         \"\"\"\n\u001b[0;32m--> 566\u001b[0;31m         \u001b[0my\u001b[0m \u001b[0;34m=\u001b[0m \u001b[0mcheck_endog\u001b[0m\u001b[0;34m(\u001b[0m\u001b[0my\u001b[0m\u001b[0;34m,\u001b[0m \u001b[0mdtype\u001b[0m\u001b[0;34m=\u001b[0m\u001b[0mDTYPE\u001b[0m\u001b[0;34m,\u001b[0m \u001b[0mpreserve_series\u001b[0m\u001b[0;34m=\u001b[0m\u001b[0;32mTrue\u001b[0m\u001b[0;34m)\u001b[0m\u001b[0;34m\u001b[0m\u001b[0;34m\u001b[0m\u001b[0m\n\u001b[0m\u001b[1;32m    567\u001b[0m         \u001b[0mn_samples\u001b[0m \u001b[0;34m=\u001b[0m \u001b[0my\u001b[0m\u001b[0;34m.\u001b[0m\u001b[0mshape\u001b[0m\u001b[0;34m[\u001b[0m\u001b[0;36m0\u001b[0m\u001b[0;34m]\u001b[0m\u001b[0;34m\u001b[0m\u001b[0;34m\u001b[0m\u001b[0m\n\u001b[1;32m    568\u001b[0m \u001b[0;34m\u001b[0m\u001b[0m\n\u001b[1;32m    569\u001b[0m         \u001b[0;31m# See issue 499\u001b[0m\u001b[0;34m\u001b[0m\u001b[0;34m\u001b[0m\u001b[0m\n",
      "\u001b[0;32m~/anaconda3/envs/dsa3101/lib/python3.10/site-packages/pmdarima/utils/array.py\u001b[0m in \u001b[0;36m?\u001b[0;34m(y, dtype, copy, force_all_finite, preserve_series)\u001b[0m\n\u001b[1;32m    175\u001b[0m     \u001b[0;34m-\u001b[0m\u001b[0;34m-\u001b[0m\u001b[0;34m-\u001b[0m\u001b[0;34m-\u001b[0m\u001b[0;34m-\u001b[0m\u001b[0;34m-\u001b[0m\u001b[0;34m-\u001b[0m\u001b[0;34m\u001b[0m\u001b[0;34m\u001b[0m\u001b[0m\n\u001b[1;32m    176\u001b[0m     \u001b[0my\u001b[0m \u001b[0;34m:\u001b[0m \u001b[0mnp\u001b[0m\u001b[0;34m.\u001b[0m\u001b[0mndarray\u001b[0m \u001b[0;32mor\u001b[0m \u001b[0mpd\u001b[0m\u001b[0;34m.\u001b[0m\u001b[0mSeries\u001b[0m\u001b[0;34m,\u001b[0m \u001b[0mshape\u001b[0m\u001b[0;34m=\u001b[0m\u001b[0;34m(\u001b[0m\u001b[0mn_samples\u001b[0m\u001b[0;34m,\u001b[0m\u001b[0;34m)\u001b[0m\u001b[0;34m\u001b[0m\u001b[0;34m\u001b[0m\u001b[0m\n\u001b[1;32m    177\u001b[0m         \u001b[0mA\u001b[0m \u001b[0;36m1\u001b[0m\u001b[0md\u001b[0m \u001b[0mnumpy\u001b[0m \u001b[0mndarray\u001b[0m\u001b[0;34m\u001b[0m\u001b[0;34m\u001b[0m\u001b[0m\n\u001b[1;32m    178\u001b[0m     \"\"\"\n\u001b[0;32m--> 179\u001b[0;31m     endog = skval.check_array(\n\u001b[0m\u001b[1;32m    180\u001b[0m         \u001b[0my\u001b[0m\u001b[0;34m,\u001b[0m\u001b[0;34m\u001b[0m\u001b[0;34m\u001b[0m\u001b[0m\n\u001b[1;32m    181\u001b[0m         \u001b[0mensure_2d\u001b[0m\u001b[0;34m=\u001b[0m\u001b[0;32mFalse\u001b[0m\u001b[0;34m,\u001b[0m\u001b[0;34m\u001b[0m\u001b[0;34m\u001b[0m\u001b[0m\n\u001b[1;32m    182\u001b[0m         \u001b[0mforce_all_finite\u001b[0m\u001b[0;34m=\u001b[0m\u001b[0mforce_all_finite\u001b[0m\u001b[0;34m,\u001b[0m\u001b[0;34m\u001b[0m\u001b[0;34m\u001b[0m\u001b[0m\n",
      "\u001b[0;32m~/anaconda3/envs/dsa3101/lib/python3.10/site-packages/sklearn/utils/validation.py\u001b[0m in \u001b[0;36m?\u001b[0;34m(array, accept_sparse, accept_large_sparse, dtype, order, copy, force_all_finite, ensure_2d, allow_nd, ensure_min_samples, ensure_min_features, estimator, input_name)\u001b[0m\n\u001b[1;32m    914\u001b[0m                         )\n\u001b[1;32m    915\u001b[0m                     \u001b[0marray\u001b[0m \u001b[0;34m=\u001b[0m \u001b[0mxp\u001b[0m\u001b[0;34m.\u001b[0m\u001b[0mastype\u001b[0m\u001b[0;34m(\u001b[0m\u001b[0marray\u001b[0m\u001b[0;34m,\u001b[0m \u001b[0mdtype\u001b[0m\u001b[0;34m,\u001b[0m \u001b[0mcopy\u001b[0m\u001b[0;34m=\u001b[0m\u001b[0;32mFalse\u001b[0m\u001b[0;34m)\u001b[0m\u001b[0;34m\u001b[0m\u001b[0;34m\u001b[0m\u001b[0m\n\u001b[1;32m    916\u001b[0m                 \u001b[0;32melse\u001b[0m\u001b[0;34m:\u001b[0m\u001b[0;34m\u001b[0m\u001b[0;34m\u001b[0m\u001b[0m\n\u001b[1;32m    917\u001b[0m                     \u001b[0marray\u001b[0m \u001b[0;34m=\u001b[0m \u001b[0m_asarray_with_order\u001b[0m\u001b[0;34m(\u001b[0m\u001b[0marray\u001b[0m\u001b[0;34m,\u001b[0m \u001b[0morder\u001b[0m\u001b[0;34m=\u001b[0m\u001b[0morder\u001b[0m\u001b[0;34m,\u001b[0m \u001b[0mdtype\u001b[0m\u001b[0;34m=\u001b[0m\u001b[0mdtype\u001b[0m\u001b[0;34m,\u001b[0m \u001b[0mxp\u001b[0m\u001b[0;34m=\u001b[0m\u001b[0mxp\u001b[0m\u001b[0;34m)\u001b[0m\u001b[0;34m\u001b[0m\u001b[0;34m\u001b[0m\u001b[0m\n\u001b[0;32m--> 918\u001b[0;31m             \u001b[0;32mexcept\u001b[0m \u001b[0mComplexWarning\u001b[0m \u001b[0;32mas\u001b[0m \u001b[0mcomplex_warning\u001b[0m\u001b[0;34m:\u001b[0m\u001b[0;34m\u001b[0m\u001b[0;34m\u001b[0m\u001b[0m\n\u001b[0m\u001b[1;32m    919\u001b[0m                 raise ValueError(\n\u001b[1;32m    920\u001b[0m                     \u001b[0;34m\"Complex data not supported\\n{}\\n\"\u001b[0m\u001b[0;34m.\u001b[0m\u001b[0mformat\u001b[0m\u001b[0;34m(\u001b[0m\u001b[0marray\u001b[0m\u001b[0;34m)\u001b[0m\u001b[0;34m\u001b[0m\u001b[0;34m\u001b[0m\u001b[0m\n\u001b[1;32m    921\u001b[0m                 ) from complex_warning\n",
      "\u001b[0;32m~/anaconda3/envs/dsa3101/lib/python3.10/site-packages/sklearn/utils/_array_api.py\u001b[0m in \u001b[0;36m?\u001b[0;34m(array, dtype, order, copy, xp)\u001b[0m\n\u001b[1;32m    376\u001b[0m         \u001b[0;31m# Use NumPy API to support order\u001b[0m\u001b[0;34m\u001b[0m\u001b[0;34m\u001b[0m\u001b[0m\n\u001b[1;32m    377\u001b[0m         \u001b[0;32mif\u001b[0m \u001b[0mcopy\u001b[0m \u001b[0;32mis\u001b[0m \u001b[0;32mTrue\u001b[0m\u001b[0;34m:\u001b[0m\u001b[0;34m\u001b[0m\u001b[0;34m\u001b[0m\u001b[0m\n\u001b[1;32m    378\u001b[0m             \u001b[0marray\u001b[0m \u001b[0;34m=\u001b[0m \u001b[0mnumpy\u001b[0m\u001b[0;34m.\u001b[0m\u001b[0marray\u001b[0m\u001b[0;34m(\u001b[0m\u001b[0marray\u001b[0m\u001b[0;34m,\u001b[0m \u001b[0morder\u001b[0m\u001b[0;34m=\u001b[0m\u001b[0morder\u001b[0m\u001b[0;34m,\u001b[0m \u001b[0mdtype\u001b[0m\u001b[0;34m=\u001b[0m\u001b[0mdtype\u001b[0m\u001b[0;34m)\u001b[0m\u001b[0;34m\u001b[0m\u001b[0;34m\u001b[0m\u001b[0m\n\u001b[1;32m    379\u001b[0m         \u001b[0;32melse\u001b[0m\u001b[0;34m:\u001b[0m\u001b[0;34m\u001b[0m\u001b[0;34m\u001b[0m\u001b[0m\n\u001b[0;32m--> 380\u001b[0;31m             \u001b[0marray\u001b[0m \u001b[0;34m=\u001b[0m \u001b[0mnumpy\u001b[0m\u001b[0;34m.\u001b[0m\u001b[0masarray\u001b[0m\u001b[0;34m(\u001b[0m\u001b[0marray\u001b[0m\u001b[0;34m,\u001b[0m \u001b[0morder\u001b[0m\u001b[0;34m=\u001b[0m\u001b[0morder\u001b[0m\u001b[0;34m,\u001b[0m \u001b[0mdtype\u001b[0m\u001b[0;34m=\u001b[0m\u001b[0mdtype\u001b[0m\u001b[0;34m)\u001b[0m\u001b[0;34m\u001b[0m\u001b[0;34m\u001b[0m\u001b[0m\n\u001b[0m\u001b[1;32m    381\u001b[0m \u001b[0;34m\u001b[0m\u001b[0m\n\u001b[1;32m    382\u001b[0m         \u001b[0;31m# At this point array is a NumPy ndarray. We convert it to an array\u001b[0m\u001b[0;34m\u001b[0m\u001b[0;34m\u001b[0m\u001b[0m\n\u001b[1;32m    383\u001b[0m         \u001b[0;31m# container that is consistent with the input's namespace.\u001b[0m\u001b[0;34m\u001b[0m\u001b[0;34m\u001b[0m\u001b[0m\n",
      "\u001b[0;32m~/anaconda3/envs/dsa3101/lib/python3.10/site-packages/pandas/core/generic.py\u001b[0m in \u001b[0;36m?\u001b[0;34m(self, dtype)\u001b[0m\n\u001b[1;32m   2082\u001b[0m     \u001b[0;32mdef\u001b[0m \u001b[0m__array__\u001b[0m\u001b[0;34m(\u001b[0m\u001b[0mself\u001b[0m\u001b[0;34m,\u001b[0m \u001b[0mdtype\u001b[0m\u001b[0;34m:\u001b[0m \u001b[0mnpt\u001b[0m\u001b[0;34m.\u001b[0m\u001b[0mDTypeLike\u001b[0m \u001b[0;34m|\u001b[0m \u001b[0;32mNone\u001b[0m \u001b[0;34m=\u001b[0m \u001b[0;32mNone\u001b[0m\u001b[0;34m)\u001b[0m \u001b[0;34m->\u001b[0m \u001b[0mnp\u001b[0m\u001b[0;34m.\u001b[0m\u001b[0mndarray\u001b[0m\u001b[0;34m:\u001b[0m\u001b[0;34m\u001b[0m\u001b[0;34m\u001b[0m\u001b[0m\n\u001b[1;32m   2083\u001b[0m         \u001b[0mvalues\u001b[0m \u001b[0;34m=\u001b[0m \u001b[0mself\u001b[0m\u001b[0;34m.\u001b[0m\u001b[0m_values\u001b[0m\u001b[0;34m\u001b[0m\u001b[0;34m\u001b[0m\u001b[0m\n\u001b[0;32m-> 2084\u001b[0;31m         \u001b[0marr\u001b[0m \u001b[0;34m=\u001b[0m \u001b[0mnp\u001b[0m\u001b[0;34m.\u001b[0m\u001b[0masarray\u001b[0m\u001b[0;34m(\u001b[0m\u001b[0mvalues\u001b[0m\u001b[0;34m,\u001b[0m \u001b[0mdtype\u001b[0m\u001b[0;34m=\u001b[0m\u001b[0mdtype\u001b[0m\u001b[0;34m)\u001b[0m\u001b[0;34m\u001b[0m\u001b[0;34m\u001b[0m\u001b[0m\n\u001b[0m\u001b[1;32m   2085\u001b[0m         if (\n\u001b[1;32m   2086\u001b[0m             \u001b[0mastype_is_view\u001b[0m\u001b[0;34m(\u001b[0m\u001b[0mvalues\u001b[0m\u001b[0;34m.\u001b[0m\u001b[0mdtype\u001b[0m\u001b[0;34m,\u001b[0m \u001b[0marr\u001b[0m\u001b[0;34m.\u001b[0m\u001b[0mdtype\u001b[0m\u001b[0;34m)\u001b[0m\u001b[0;34m\u001b[0m\u001b[0;34m\u001b[0m\u001b[0m\n\u001b[1;32m   2087\u001b[0m             \u001b[0;32mand\u001b[0m \u001b[0musing_copy_on_write\u001b[0m\u001b[0;34m(\u001b[0m\u001b[0;34m)\u001b[0m\u001b[0;34m\u001b[0m\u001b[0;34m\u001b[0m\u001b[0m\n",
      "\u001b[0;31mValueError\u001b[0m: could not convert string to float: '2018-08-07 09:26:34'"
     ]
    }
   ],
   "source": [
    "trained_model, mae = train_and_evaluate(model, train, test)\n",
    "\n",
    "mae_df = pd.read_csv('mae_tracking.csv')\n",
    "mae_df.loc[len(mae_df)] = [datetime.now(),incident_type, mae]\n",
    "mae_df.to_csv('mae_tracking.csv', index=False)\n",
    "\n"
   ]
  },
  {
   "cell_type": "code",
   "execution_count": 24,
   "metadata": {},
   "outputs": [
    {
     "ename": "NameError",
     "evalue": "name 'save_model' is not defined",
     "output_type": "error",
     "traceback": [
      "\u001b[0;31m---------------------------------------------------------------------------\u001b[0m",
      "\u001b[0;31mNameError\u001b[0m                                 Traceback (most recent call last)",
      "\u001b[1;32m/Users/sumiko/Desktop/git/DSA3101_Project/back/src/try_sarima.ipynb Cell 11\u001b[0m line \u001b[0;36m2\n\u001b[1;32m      <a href='vscode-notebook-cell:/Users/sumiko/Desktop/git/DSA3101_Project/back/src/try_sarima.ipynb#X20sZmlsZQ%3D%3D?line=0'>1</a>\u001b[0m trained_model\u001b[39m.\u001b[39mfit(weekly_data)\n\u001b[0;32m----> <a href='vscode-notebook-cell:/Users/sumiko/Desktop/git/DSA3101_Project/back/src/try_sarima.ipynb#X20sZmlsZQ%3D%3D?line=1'>2</a>\u001b[0m save_model(trained_model, \u001b[39mf\u001b[39m\u001b[39m'\u001b[39m\u001b[39msarima_model_\u001b[39m\u001b[39m{\u001b[39;00mincident_type\u001b[39m}\u001b[39;00m\u001b[39m.pkl\u001b[39m\u001b[39m'\u001b[39m)\n",
      "\u001b[0;31mNameError\u001b[0m: name 'save_model' is not defined"
     ]
    }
   ],
   "source": [
    "trained_model.fit(weekly_data)\n"
   ]
  },
  {
   "cell_type": "code",
   "execution_count": 28,
   "metadata": {},
   "outputs": [],
   "source": [
    "save_model(trained_model, f'sarima_model_{incident_type}.pkl')"
   ]
  },
  {
   "cell_type": "code",
   "execution_count": 31,
   "metadata": {},
   "outputs": [],
   "source": [
    "def forecast(incident_type):\n",
    "    with open(f'sarima_model_{incident_type}.pkl', 'rb') as pkl:\n",
    "        model = pickle.load(pkl)\n",
    "    \n",
    "    future_forecast = model.predict(n_periods=52)\n",
    "    \n",
    "    plt.figure(figsize=(10, 5))\n",
    "    plt.plot(future_forecast, color='blue')\n",
    "    plt.title('Future Forecast for 52 Weeks')\n",
    "    plt.xlabel('Time')\n",
    "    plt.ylabel('Predicted Count')\n",
    "    forecast_plot = 'forecast_plot.png'\n",
    "    plt.savefig(forecast_plot)\n",
    "    plt.close()"
   ]
  }
 ],
 "metadata": {
  "kernelspec": {
   "display_name": "dsa3101",
   "language": "python",
   "name": "python3"
  },
  "language_info": {
   "codemirror_mode": {
    "name": "ipython",
    "version": 3
   },
   "file_extension": ".py",
   "mimetype": "text/x-python",
   "name": "python",
   "nbconvert_exporter": "python",
   "pygments_lexer": "ipython3",
   "version": "3.10.12"
  }
 },
 "nbformat": 4,
 "nbformat_minor": 2
}
